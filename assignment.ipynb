{
 "cells": [
  {
   "cell_type": "markdown",
   "id": "16c73134",
   "metadata": {},
   "source": [
    "# Team 2 - NUS ISS Assignement - RAG \n",
    "\n",
    "Context: We want to build a LLM using RAG Bookstore to recommend users books to read accordingly to their interest."
   ]
  },
  {
   "cell_type": "code",
   "execution_count": 38,
   "id": "2f71b74b",
   "metadata": {},
   "outputs": [],
   "source": [
    "# Import libraries\n",
    "import os\n",
    "from langchain_community.document_loaders import UnstructuredEPubLoader\n",
    "from langchain_text_splitters import RecursiveCharacterTextSplitter\n",
    "\n",
    "import chromadb\n",
    "from uuid import uuid4\n",
    "from chromadb.utils import embedding_functions\n",
    "\n",
    "from datasets import load_dataset\n",
    "\n",
    "from transformers import AutoTokenizer, AutoModelForSeq2SeqLM, AutoModelForCausalLM, GenerationConfig"
   ]
  },
  {
   "cell_type": "code",
   "execution_count": 35,
   "id": "206a5ecb",
   "metadata": {},
   "outputs": [],
   "source": [
    "# Setting up of the LLM Model \n",
    "# We Are using google/flan-t5-small\n",
    "model_name = \"google/flan-t5-small\"\n",
    "\n",
    "# Create the tokenizer\n",
    "tokenizer = AutoTokenizer.from_pretrained(model_name)\n",
    "model = AutoModelForSeq2SeqLM.from_pretrained(model_name)\n",
    "\n",
    "# I am here\n"
   ]
  },
  {
   "cell_type": "code",
   "execution_count": 10,
   "id": "a6b5b231",
   "metadata": {},
   "outputs": [
    {
     "name": "stderr",
     "output_type": "stream",
     "text": [
      "[WARNING] Could not load translations for en-US\n",
      "  data file translations/en.yaml not found\n",
      "[WARNING] The term Abstract has no translation defined.\n",
      "\n"
     ]
    },
    {
     "name": "stdout",
     "output_type": "stream",
     "text": [
      "[Document(metadata={'source': 'data/the_nightingale_and_the_rose.epub'}, page_content='The Nightingale and the Rose.\\n\\nDecorative graphic of young man lying on grass\\n\\n“She said that she would dance with me if I brought her red roses,” cried the young Student; “but in all my garden there is no red rose.”\\n\\nFrom her nest in the holm-oak tree the Nightingale heard him, and she looked out through the leaves, and wondered.\\n\\n“No red rose in all my garden!” he cried, and his beautiful eyes filled with tears. “Ah, on what little things does happiness depend! I have read all that the wise men have written, and all the secrets of philosophy are mine, yet for want of a red rose is my life made wretched.”\\n\\n“Here at last is a true lover,” said the Nightingale. “Night after night have I sung of him, though I knew him not: night after night have I told his story to the stars, and now I see him. His hair is dark as the hyacinth-blossom, and his lips are red as the rose of his desire; but passion has made his face like pale ivory, and sorrow has set her seal upon his brow.”\\n\\n“The Prince gives a ball to-morrow night,” murmured the young Student, “and my love will be of the company. If I bring her a red rose she will dance with me till dawn. If I bring her a red rose, I shall hold her in my arms, and she will lean her head upon my shoulder, and her hand will be clasped in mine. But there is no red rose in my garden, so I shall sit lonely, and she will pass me by. She will have no heed of me, and my heart will break.”\\n\\n“Here indeed is the true lover,” said the Nightingale. “What I sing of, he suffers—what is joy to me, to him is pain. Surely Love is a wonderful thing. It is more precious than emeralds, and dearer than fine opals. Pearls and pomegranates cannot buy it, nor is it set forth in the marketplace. It may not be purchased of the merchants, nor can it be weighed out in the balance for gold.”\\n\\n“The musicians will sit in their gallery,” said the young Student, “and play upon their stringed instruments, and my love will dance to the sound of the harp and the violin. She will dance so lightly that her feet will not touch the floor, and the courtiers in their gay dresses will throng round her. But with me she will not dance, for I have no red rose to give her”; and he flung himself down on the grass, and buried his face in his hands, and wept.\\n\\n“Why is he weeping?” asked a little Green Lizard, as he ran past him with his tail in the air.\\n\\n“Why, indeed?” said a Butterfly, who was fluttering about after a sunbeam.\\n\\n“Why, indeed?” whispered a Daisy to his neighbour, in a soft, low voice.\\n\\n“He is weeping for a red rose,” said the Nightingale.\\n\\n“For a red rose?” they cried; “how very ridiculous!” and the little Lizard, who was something of a cynic, laughed outright.\\n\\nBut the Nightingale understood the secret of the Student’s sorrow, and she sat silent in the oak-tree, and thought about the mystery of Love.\\n\\nSuddenly she spread her brown wings for flight, and soared into the air. She passed through the grove like a shadow, and like a shadow she sailed across the garden.\\n\\nIn the centre of the grass-plot was standing a beautiful Rose-tree, and when she saw it she flew over to it, and lit upon a spray.\\n\\n“Give me a red rose,” she cried, “and I will sing you my sweetest song.”\\n\\nBut the Tree shook its head.\\n\\n“My roses are white,” it answered; “as white as the foam of the sea, and whiter than the snow upon the mountain. But go to my brother who grows round the old sun-dial, and perhaps he will give you what you want.”\\n\\nSo the Nightingale flew over to the Rose-tree that was growing round the old sun-dial.\\n\\n“Give me a red rose,” she cried, “and I will sing you my sweetest song.”\\n\\nBut the Tree shook its head.\\n\\n“My roses are yellow,” it answered; “as yellow as the hair of the mermaiden who sits upon an amber throne, and yellower than the daffodil that blooms in the meadow before the mower comes with his scythe. But go to my brother who grows beneath the Student’s window, and perhaps he will give you what you want.”\\n\\nSo the Nightingale flew over to the Rose-tree that was growing beneath the Student’s window.\\n\\n“Give me a red rose,” she cried, “and I will sing you my sweetest song.”\\n\\nBut the Tree shook its head.\\n\\n“My roses are red,” it answered, “as red as the feet of the dove, and redder than the great fans of coral that wave and wave in the ocean-cavern. But the winter has chilled my veins, and the frost has nipped my buds, and the storm has broken my branches, and I shall have no roses at all this year.”\\n\\n“One red rose is all I want,” cried the Nightingale, “only one red rose! Is there no way by which I can get it?”\\n\\n“There is a way,” answered the Tree; “but it is so terrible that I dare not tell it to you.”\\n\\n“Tell it to me,” said the Nightingale, “I am not afraid.”\\n\\n“If you want a red rose,” said the Tree, “you must build it out of music by moonlight, and stain it with your own heart’s-blood. You must sing to me with your breast against a thorn. All night long you must sing to me, and the thorn must pierce your heart, and your life-blood must flow into my veins, and become mine.”\\n\\n“Death is a great price to pay for a red rose,” cried the Nightingale, “and Life is very dear to all. It is pleasant to sit in the green wood, and to watch the Sun in his chariot of gold, and the Moon in her chariot of pearl. Sweet is the scent of the hawthorn, and sweet are the bluebells that hide in the valley, and the heather that blows on the hill. Yet Love is better than Life, and what is the heart of a bird compared to the heart of a man?”\\n\\nSo she spread her brown wings for flight, and soared into the air. She swept over the garden like a shadow, and like a shadow she sailed through the grove.\\n\\nThe young Student was still lying on the grass, where she had left him, and the tears were not yet dry in his beautiful eyes.\\n\\n“Be happy,” cried the Nightingale, “be happy; you shall have your red rose. I will build it out of music by moonlight, and stain it with my own heart’s-blood. All that I ask of you in return is that you will be a true lover, for Love is wiser than Philosophy, though she is wise, and mightier than Power, though he is mighty. Flame-coloured are his wings, and coloured like flame is his body. His lips are sweet as honey, and his breath is like frankincense.”\\n\\nThe Student looked up from the grass, and listened, but he could not understand what the Nightingale was saying to him, for he only knew the things that are written down in books.\\n\\nBut the Oak-tree understood, and felt sad, for he was very fond of the little Nightingale who had built her nest in his branches.\\n\\n“Sing me one last song,” he whispered; “I shall feel very lonely when you are gone.”\\n\\nSo the Nightingale sang to the Oak-tree, and her voice was like water bubbling from a silver jar.\\n\\nWhen she had finished her song the Student got up, and pulled a note-book and a lead-pencil out of his pocket.\\n\\n“She has form,” he said to himself, as he walked away through the grove—“that cannot be denied to her; but has she got feeling? I am afraid not. In fact, she is like most artists; she is all style, without any sincerity. She would not sacrifice herself for others. She thinks merely of music, and everybody knows that the arts are selfish. Still, it must be admitted that she has some beautiful notes in her voice. What a pity it is that they do not mean anything, or do any practical good.” And he went into his room, and lay down on his little pallet-bed, and began to think of his love; and, after a time, he fell asleep.\\n\\nAnd when the Moon shone in the heavens the Nightingale flew to the Rose-tree, and set her breast against the thorn. All night long she sang with her breast against the thorn, and the cold crystal Moon leaned down and listened. All night long she sang, and the thorn went deeper and deeper into her breast, and her life-blood ebbed away from her.\\n\\nShe sang first of the birth of love in the heart of a boy and a girl. And on the top-most spray of the Rose-tree there blossomed a marvellous rose, petal following petal, as song followed song. Pale was it, at first, as the mist that hangs over the river—pale as the feet of the morning, and silver as the wings of the dawn. As the shadow of a rose in a mirror of silver, as the shadow of a rose in a water-pool, so was the rose that blossomed on the topmost spray of the Tree.\\n\\nBut the Tree cried to the Nightingale to press closer against the thorn. “Press closer, little Nightingale,” cried the Tree, “or the Day will come before the rose is finished.”\\n\\nSo the Nightingale pressed closer against the thorn, and louder and louder grew her song, for she sang of the birth of passion in the soul of a man and a maid.\\n\\nAnd a delicate flush of pink came into the leaves of the rose, like the flush in the face of the bridegroom when he kisses the lips of the bride. But the thorn had not yet reached her heart, so the rose’s heart remained white, for only a Nightingale’s heart’s-blood can crimson the heart of a rose.\\n\\nAnd the Tree cried to the Nightingale to press closer against the thorn. “Press closer, little Nightingale,” cried the Tree, “or the Day will come before the rose is finished.”\\n\\nSo the Nightingale pressed closer against the thorn, and the thorn touched her heart, and a fierce pang of pain shot through her. Bitter, bitter was the pain, and wilder and wilder grew her song, for she sang of the Love that is perfected by Death, of the Love that dies not in the tomb.\\n\\nAnd the marvellous rose became crimson, like the rose of the eastern sky. Crimson was the girdle of petals, and crimson as a ruby was the heart.\\n\\nBut the Nightingale’s voice grew fainter, and her little wings began to beat, and a film came over her eyes. Fainter and fainter grew her song, and she felt something choking her in her throat.\\n\\nThen she gave one last burst of music. The white Moon heard it, and she forgot the dawn, and lingered on in the sky. The red rose heard it, and it trembled all over with ecstasy, and opened its petals to the cold morning air. Echo bore it to her purple cavern in the hills, and woke the sleeping shepherds from their dreams. It floated through the reeds of the river, and they carried its message to the sea.\\n\\n“Look, look!” cried the Tree, “the rose is finished now”; but the Nightingale made no answer, for she was lying dead in the long grass, with the thorn in her heart.\\n\\nAnd at noon the Student opened his window and looked out.\\n\\n“Why, what a wonderful piece of luck!” he cried; “here is a red rose! I have never seen any rose like it in all my life. It is so beautiful that I am sure it has a long Latin name”; and he leaned down and plucked it.\\n\\nThen he put on his hat, and ran up to the Professor’s house with the rose in his hand.\\n\\nThe daughter of the Professor was sitting in the doorway winding blue silk on a reel, and her little dog was lying at her feet.\\n\\n“You said that you would dance with me if I brought you a red rose,” cried the Student. “Here is the reddest rose in all the world. You will wear it to-night next your heart, and as we dance together it will tell you how I love you.”\\n\\nBut the girl frowned.\\n\\n“I am afraid it will not go with my dress,” she answered; “and, besides, the Chamberlain’s nephew has sent me some real jewels, and everybody knows that jewels cost far more than flowers.”\\n\\n“Well, upon my word, you are very ungrateful,” said the Student angrily; and he threw the rose into the street, where it fell into the gutter, and a cart-wheel went over it.\\n\\n“Ungrateful!” said the girl. “I tell you what, you are very rude; and, after all, who are you? Only a Student. Why, I don’t believe you have even got silver buckles to your shoes as the Chamberlain’s nephew has”; and she got up from her chair and went into the house.\\n\\n“What a silly thing Love is,” said the Student as he walked away. “It is not half as useful as Logic, for it does not prove anything, and it is always telling one of things that are not going to happen, and making one believe things that are not true. In fact, it is quite unpractical, and, as in this age to be practical is everything, I shall go back to Philosophy and study Metaphysics.”\\n\\nSo he returned to his room and pulled out a great dusty book, and began to read.\\n\\nDecorative graphic of nightingale and rose')]\n"
     ]
    }
   ],
   "source": [
    "# Load content from the EPUB file\n",
    "# epub_loader = UnstructuredEPubLoader(file_path='data/charles-dickens_a-christmas-carol.epub')\n",
    "# epub_loader = UnstructuredEPubLoader(file_path='data/the_gift_of_the_magi.epub')\n",
    "# epub_loader = UnstructuredEPubLoader(file_path='data/the_happy_prince.epub')\n",
    "epub_loader = UnstructuredEPubLoader(file_path='data/the_nightingale_and_the_rose.epub')\n",
    "doc = epub_loader.load()\n",
    "\n",
    "print(doc)"
   ]
  },
  {
   "cell_type": "code",
   "execution_count": null,
   "id": "7f6c61e4",
   "metadata": {},
   "outputs": [],
   "source": [
    "# Create a text splitter to break down the document into manageable chunks\n",
    "chunks_size = 1024\n",
    "chunks_overlap = 50\n",
    "\n",
    "text_splitter = RecursiveCharacterTextSplitter(\n",
    "    chunk_size=chunks_size,\n",
    "    chunk_overlap=chunks_overlap\n",
    ")\n",
    "chunks = text_splitter.split_documents(doc)"
   ]
  },
  {
   "cell_type": "code",
   "execution_count": 36,
   "id": "aaeb0f07",
   "metadata": {},
   "outputs": [],
   "source": [
    "embed_model_name = 'BAAI/bge-small-en-v1.5'"
   ]
  },
  {
   "cell_type": "code",
   "execution_count": 40,
   "id": "0be6b110",
   "metadata": {},
   "outputs": [],
   "source": [
    "# Create embedding model\n",
    "embed_model_func = embedding_functions.SentenceTransformerEmbeddingFunction(\n",
    "    model_name=embed_model_name\n",
    ")"
   ]
  },
  {
   "cell_type": "code",
   "execution_count": 41,
   "id": "0c44138e",
   "metadata": {},
   "outputs": [],
   "source": [
    "# Crepare the chunks for inserting into Chroma\n",
    "texts = [d.page_content for d in chunks]\n",
    "\n",
    "# Generate PK for texts\n",
    "texts_ids = [str(uuid4())[:8] for _ in range(len(texts))]"
   ]
  },
  {
   "cell_type": "code",
   "execution_count": 42,
   "id": "ded6ce75",
   "metadata": {},
   "outputs": [],
   "source": [
    "# Create ephemeral Chroma client and save chunks\n",
    "collection_name = 'epub'\n",
    "\n",
    "# Create a Chroma client\n",
    "chroma_client = chromadb.Client()\n",
    "\n",
    "# Create a embeeding function\n",
    "embed_model_func = embedding_functions.SentenceTransformerEmbeddingFunction(model_name=model_name)\n",
    "\n",
    "try:\n",
    "    # Clean up collection\n",
    "    chroma_client.delete_collection(name=collection_name)\n",
    "except Exception as e:\n",
    "    pass"
   ]
  },
  {
   "cell_type": "code",
   "execution_count": 43,
   "id": "102e9259",
   "metadata": {},
   "outputs": [
    {
     "name": "stdout",
     "output_type": "stream",
     "text": [
      "Inserting chunks document into Chroma collection...\n",
      "Number of documents in collection 'epub': 14\n"
     ]
    }
   ],
   "source": [
    "# Insert the chunks into collection\n",
    "collection = chroma_client.create_collection(\n",
    "    name=collection_name,\n",
    "    embedding_function=embed_model_func\n",
    ")\n",
    "\n",
    "# If the document <=0, than we load\n",
    "if collection.count() == 0:\n",
    "    print(\"Inserting chunks document into Chroma collection...\")\n",
    "    collection.add(\n",
    "        documents=texts,\n",
    "        ids=texts_ids\n",
    "    )\n",
    "\n",
    "print(f\"Number of documents in collection '{collection_name}': {collection.count()}\")"
   ]
  },
  {
   "cell_type": "code",
   "execution_count": 47,
   "id": "8ea277a1",
   "metadata": {},
   "outputs": [],
   "source": [
    "top_k = 5\n",
    "question = \"Who is Scrooge?\"\n",
    "\n",
    "results = collection.query(\n",
    "    query_texts=[question],\n",
    "    n_results=top_k\n",
    ")\n",
    "\n",
    "context= \"\"\n",
    "for id in results['ids'][0]:\n",
    "    doc = collection.get(ids=[id])\n",
    "    context += doc['documents'][0] + \"\\n\"\n",
    "    \n",
    "# Create the LLM query here\n",
    "llm_query = f\"Answer based on context :\\n\\n {context}\\nTop {top_k} results from the ChromaDb database based on the question\\n{question}\"\n"
   ]
  },
  {
   "cell_type": "code",
   "execution_count": 48,
   "id": "0b34a88c",
   "metadata": {},
   "outputs": [
    {
     "name": "stdout",
     "output_type": "stream",
     "text": [
      "a student\n"
     ]
    }
   ],
   "source": [
    "#Pass the query to the LLM to retrieve the results\n",
    "\n",
    "config = GenerationConfig(\n",
    "    do_sample = True,\n",
    "    temperature= 0.7,\n",
    "    top_k= 1\n",
    ")\n",
    "\n",
    "input = tokenizer(llm_query, return_tensors=\"pt\").input_ids\n",
    "\n",
    "enc_summary = model.generate(input, generation_config = config)\n",
    "\n",
    "summary = tokenizer.decode(enc_summary[0], skip_special_tokens=True)\n",
    "print(summary)\n"
   ]
  }
 ],
 "metadata": {
  "kernelspec": {
   "display_name": "Python 3",
   "language": "python",
   "name": "python3"
  },
  "language_info": {
   "codemirror_mode": {
    "name": "ipython",
    "version": 3
   },
   "file_extension": ".py",
   "mimetype": "text/x-python",
   "name": "python",
   "nbconvert_exporter": "python",
   "pygments_lexer": "ipython3",
   "version": "3.12.11"
  }
 },
 "nbformat": 4,
 "nbformat_minor": 5
}
