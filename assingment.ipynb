{
 "cells": [
  {
   "cell_type": "markdown",
   "id": "16c73134",
   "metadata": {},
   "source": [
    "# Team 2 - NUS ISS Assignement - RAG \n",
    "\n",
    "Context: We want to build a LLM using RAG Bookstore to recommend users books to read accordingly to their interest."
   ]
  },
  {
   "cell_type": "code",
   "execution_count": 1,
   "id": "2f71b74b",
   "metadata": {},
   "outputs": [],
   "source": [
    "# Import libraries\n",
    "import os\n",
    "from langchain_community.document_loaders import UnstructuredEPubLoader\n",
    "from langchain_text_splitters import RecursiveCharacterTextSplitter\n",
    "\n",
    "import chromadb\n",
    "from uuid import uuid4\n",
    "from chromadb.utils import embedding_functions\n",
    "\n",
    "from datasets import load_dataset\n",
    "\n",
    "from transformers import AutoTokenizer, AutoModelForSeq2SeqLM, AutoModelForCausalLM, GenerationConfig"
   ]
  },
  {
   "cell_type": "code",
   "execution_count": null,
   "id": "206a5ecb",
   "metadata": {},
   "outputs": [],
   "source": [
    "# Setting up of the LLM Model \n",
    "# We Are using google/flan-t5-small\n",
    "model_name = \"google/flan-t5-small\"\n",
    "\n",
    "# Create the tokenizer\n",
    "tokenizer = AutoTokenizer.from_pretrained(model_name)\n",
    "model = AutoModelForSeq2SeqLM.from_pretrained(model_name)\n",
    "\n",
    "# I am here\n"
   ]
  },
  {
   "cell_type": "code",
   "execution_count": null,
   "id": "7bfef755",
   "metadata": {},
   "outputs": [],
   "source": [
    "\n",
    "top_k = 5\n",
    "question = \"What is the best book that discusses AI?\"\n",
    "\n",
    "results = collection.query(\n",
    "    query_texts=[question],\n",
    "    n_results=top_k\n",
    ")\n",
    "\n",
    "context= \"\"\n",
    "for id in results['ids'][0]:\n",
    "    doc = collection.get(ids=[id])\n",
    "    context += doc['documents'][0] + \"\\n\"\n",
    "    \n",
    "# Create the LLM query here\n",
    "llm_query = f\"Answer based on context :\\n\\n {context}\\nTop {top_k} results from the ChromaDb database based on the question\\n{question}\"\n",
    "\n"
   ]
  },
  {
   "cell_type": "code",
   "execution_count": null,
   "id": "de0d8fc3",
   "metadata": {},
   "outputs": [],
   "source": [
    "#Pass the query to the LLM to retrieve the results\n",
    "\n",
    "config = GenerationConfig(\n",
    "    do_sample = True,\n",
    "    temperature= 0.7,\n",
    "    top_k= 1\n",
    ")\n",
    "\n",
    "input = tokenizer(llm_query, return_tensors=\"pt\").input_ids\n",
    "\n",
    "enc_summary = model.generate(input, generation_config = config)\n",
    "\n",
    "summary = tokenizer.decode(enc_summary[0], skip_special_tokens=True)\n",
    "print(summary)"
   ]
  }
 ],
 "metadata": {
  "kernelspec": {
   "display_name": "Python 3",
   "language": "python",
   "name": "python3"
  },
  "language_info": {
   "codemirror_mode": {
    "name": "ipython",
    "version": 3
   },
   "file_extension": ".py",
   "mimetype": "text/x-python",
   "name": "python",
   "nbconvert_exporter": "python",
   "pygments_lexer": "ipython3",
   "version": "3.12.11"
  }
 },
 "nbformat": 4,
 "nbformat_minor": 5
}
