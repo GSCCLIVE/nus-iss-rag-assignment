{
 "cells": [
  {
   "cell_type": "markdown",
   "id": "16c73134",
   "metadata": {},
   "source": [
    "# Team 2 - NUS ISS Assignement - RAG \n",
    "\n",
    "Context: We want to build a LLM using RAG Bookstore to recommend users books to read accordingly to their interest."
   ]
  },
  {
   "cell_type": "code",
   "execution_count": null,
   "id": "2f71b74b",
   "metadata": {
    "vscode": {
     "languageId": "plaintext"
    }
   },
   "outputs": [],
   "source": [
    "# Import libraries\n",
    "import os\n",
    "from langchain_community.document_loaders import UnstructuredEPubLoader\n",
    "from langchain_text_splitters import RecursiveCharacterTextSplitter\n",
    "\n",
    "import chromadb\n",
    "from uuid import uuid4\n",
    "from chromadb.utils import embedding_functions\n",
    "\n",
    "from transformers import AutoTokenizer, AutoModelForSeq2SeqLM, GenerationConfig"
   ]
  }
 ],
 "metadata": {
  "language_info": {
   "name": "python"
  }
 },
 "nbformat": 4,
 "nbformat_minor": 5
}
